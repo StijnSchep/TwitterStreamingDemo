{
 "cells": [
  {
   "cell_type": "code",
   "execution_count": 1,
   "metadata": {},
   "outputs": [],
   "source": [
    "# import necessary packages\n",
    "\n",
    "from pyspark import SparkContext\n",
    "from pyspark.streaming import StreamingContext\n",
    "from pyspark.sql import SQLContext\n",
    "from pyspark.sql.functions import desc\n",
    "\n",
    "import psutil;"
   ]
  },
  {
   "cell_type": "code",
   "execution_count": 2,
   "metadata": {},
   "outputs": [],
   "source": [
    "# Create a SparkContext instance\n",
    "# Only run this code once, restart the kernel when in trouble\n",
    "sc = SparkContext()\n",
    "sc.setLogLevel(\"ERROR\")\n",
    "\n",
    "# Initialize a StreamingContext with 10 second batch interval. \n",
    "# Initialize a SQLContext\n",
    "ssc = StreamingContext(sc, 10)\n",
    "sqlContext = SQLContext(sc)"
   ]
  },
  {
   "cell_type": "code",
   "execution_count": 3,
   "metadata": {},
   "outputs": [],
   "source": [
    "# Connect with the TCP server on port 5555\n",
    "socket_stream = ssc.socketTextStream(\"localhost\", 5555)\n",
    "\n",
    "lines = socket_stream.window(60) "
   ]
  },
  {
   "cell_type": "code",
   "execution_count": 4,
   "metadata": {},
   "outputs": [],
   "source": [
    "from collections import namedtuple\n",
    "\n",
    "# Create a tuple / table to store the hashtags and their frequency\n",
    "fields = (\"hashtag\", \"count\")\n",
    "Tweet = namedtuple( 'Tweet', fields )"
   ]
  },
  {
   "cell_type": "code",
   "execution_count": 5,
   "metadata": {},
   "outputs": [],
   "source": [
    "# Process incoming data into a temporary \"tweets\" table\n",
    "\n",
    "( \n",
    "    # Split the incoming text into single words\n",
    "    lines.flatMap( lambda text: text.split( \" \" ) )\n",
    "    \n",
    "    # Filter the words for hashtags\n",
    "      .filter( lambda word: word.lower().startswith(\"#\") )\n",
    "    \n",
    "    # Turn hashtags into lower case, so that \"Corona\" and \"corona\" are the same\n",
    "      .map( lambda word: ( word.lower(), 1 ) )\n",
    "    \n",
    "    # When two keys are the same, reduce to one with the sum of the values\n",
    "      .reduceByKey( lambda a, b: a + b ) \n",
    "    \n",
    "    # Map the hashtags and their counts to Tweet objects\n",
    "      .map( lambda rec: Tweet( rec[0], rec[1] ) )\n",
    "    \n",
    "    # Create DataFrames from the Tweet Objects, store top 10 into a \"tweets\" SQL table\n",
    "      .foreachRDD( lambda rdd: rdd.toDF().sort( desc(\"count\") ).limit(10).registerTempTable(\"tweets\")) \n",
    ")"
   ]
  },
  {
   "cell_type": "code",
   "execution_count": 6,
   "metadata": {},
   "outputs": [],
   "source": [
    "# Start streaming, wait for enough tweets to come in\n",
    "ssc.start()"
   ]
  },
  {
   "cell_type": "code",
   "execution_count": 7,
   "metadata": {},
   "outputs": [],
   "source": [
    "# Visualize data\n",
    "\n",
    "import time\n",
    "from IPython import display\n",
    "import matplotlib.pyplot as plt\n",
    "import seaborn as sns\n",
    "import pandas\n",
    "%matplotlib inline "
   ]
  },
  {
   "cell_type": "code",
   "execution_count": null,
   "metadata": {},
   "outputs": [
    {
     "data": {
      "image/png": "[encoded data removed]",
      "text/plain": [
       "<Figure size 720x576 with 1 Axes>"
      ]
     },
     "metadata": {
      "needs_background": "light"
     },
     "output_type": "display_data"
    },
    {
     "name": "stdout",
     "output_type": "stream",
     "text": [
      "5\n"
     ]
    }
   ],
   "source": [
    "count = 0\n",
    "while count < 10:\n",
    "    \n",
    "    time.sleep(3)\n",
    "    top_10_tags = sqlContext.sql( 'Select hashtag, count from tweets' )\n",
    "    top_10_df = top_10_tags.toPandas()\n",
    "    display.clear_output(wait=True)\n",
    "    plt.figure( figsize = ( 10, 8 ) )\n",
    "    sns.barplot( x=\"count\", y=\"hashtag\", data=top_10_df)\n",
    "    plt.show()\n",
    "    count = count + 1\n",
    "    print(count)"
   ]
  },
  {
   "cell_type": "code",
   "execution_count": null,
   "metadata": {},
   "outputs": [],
   "source": [
    "ssc.stop()"
   ]
  },
  {
   "cell_type": "code",
   "execution_count": null,
   "metadata": {},
   "outputs": [],
   "source": []
  }
 ],
 "metadata": {
  "kernelspec": {
   "display_name": "Python 3",
   "language": "python",
   "name": "python3"
  },
  "language_info": {
   "codemirror_mode": {
    "name": "ipython",
    "version": 3
   },
   "file_extension": ".py",
   "mimetype": "text/x-python",
   "name": "python",
   "nbconvert_exporter": "python",
   "pygments_lexer": "ipython3",
   "version": "3.7.6"
  }
 },
 "nbformat": 4,
 "nbformat_minor": 4
}
